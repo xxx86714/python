{
 "cells": [
  {
   "cell_type": "code",
   "execution_count": 5,
   "metadata": {},
   "outputs": [
    {
     "name": "stdout",
     "output_type": "stream",
     "text": [
      "請輸入成績:89\n",
      "甲等\n"
     ]
    }
   ],
   "source": [
    "score = input(\"請輸入成績:\")\n",
    "if(int(score)>=90):\n",
    "    print(\"優等\")\n",
    "elif(90>int(score)>79):\n",
    "    print(\"甲等\")\n",
    "elif(80>int(score)>69):\n",
    "    print(\"乙等\")\n",
    "elif(70>int(score)>59):\n",
    "    print(\"丙等\")\n",
    "else:\n",
    "    print(\"丁等\")"
   ]
  },
  {
   "cell_type": "code",
   "execution_count": 6,
   "metadata": {},
   "outputs": [
    {
     "name": "stdout",
     "output_type": "stream",
     "text": [
      "請輸入正整數: 10\n",
      "55\n"
     ]
    }
   ],
   "source": [
    "sum = 0\n",
    "n = int(input(\"請輸入正整數: \"))\n",
    "for n in range(1,n+1):\n",
    "    sum=sum+n\n",
    "print (sum)"
   ]
  },
  {
   "cell_type": "code",
   "execution_count": 10,
   "metadata": {},
   "outputs": [
    {
     "name": "stdout",
     "output_type": "stream",
     "text": [
      "請輸入正整數: 21\n",
      "1 2 3 4 6 7 8 9 11 12 13 14 16 17 18 19 21 "
     ]
    }
   ],
   "source": [
    "i = int(input(\"請輸入正整數: \"))\n",
    "for i in range(1,i+1):\n",
    "    if(i%5==0):\n",
    "        continue\n",
    "    print(i,end=\" \")\n",
    "    "
   ]
  },
  {
   "cell_type": "code",
   "execution_count": 15,
   "metadata": {},
   "outputs": [
    {
     "name": "stdout",
     "output_type": "stream",
     "text": [
      "請輸入正整數5\n",
      "5 != 120\n"
     ]
    }
   ],
   "source": [
    "n = int(input(\"請輸入正整數\"))\n",
    "a=1\n",
    "sum=1\n",
    "while(a<=n):\n",
    "    sum=sum*a\n",
    "    a+=1\n",
    "print(n,\"!=\",sum)"
   ]
  },
  {
   "cell_type": "code",
   "execution_count": null,
   "metadata": {},
   "outputs": [],
   "source": []
  }
 ],
 "metadata": {
  "kernelspec": {
   "display_name": "Python 3",
   "language": "python",
   "name": "python3"
  },
  "language_info": {
   "codemirror_mode": {
    "name": "ipython",
    "version": 3
   },
   "file_extension": ".py",
   "mimetype": "text/x-python",
   "name": "python",
   "nbconvert_exporter": "python",
   "pygments_lexer": "ipython3",
   "version": "3.7.4"
  }
 },
 "nbformat": 4,
 "nbformat_minor": 2
}
